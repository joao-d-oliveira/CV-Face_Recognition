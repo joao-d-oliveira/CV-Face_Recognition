{
 "cells": [
  {
   "cell_type": "markdown",
   "id": "a73cfd2c",
   "metadata": {
    "heading_collapsed": true
   },
   "source": [
    "# Setting-Get Data"
   ]
  },
  {
   "cell_type": "code",
   "execution_count": 1,
   "id": "9f1ed5bc",
   "metadata": {
    "hidden": true
   },
   "outputs": [],
   "source": [
    "import neptune.new as neptune\n",
    "import numpy as np\n",
    "API_TOKEN = 'eyJhcGlfYWRkcmVzcyI6Imh0dHBzOi8vYXBwLm5lcHR1bmUuYWkiLCJhcGlfdXJsIjoiaHR0cHM6Ly9hcHAubmVwdHVuZS5haSIsImFwaV9rZXkiOiI4Njg5NjEzOC1mYWVjLTQ4NGUtOWY0NS1kZDIwM2M3NjVhN2IifQ=='"
   ]
  },
  {
   "cell_type": "code",
   "execution_count": 2,
   "id": "2fe895f6",
   "metadata": {
    "hidden": true
   },
   "outputs": [],
   "source": [
    "project = neptune.get_project(name='joao.d.oliveira/Computer-Vision', api_token=API_TOKEN)\n",
    "runs_table_df = project.fetch_runs_table().to_pandas()\n",
    "colsKeep = ['sys/id', 'parameters/run_name', 'parameters/learning_rate', 'parameters/loss_function', \n",
    "            'parameters/optimizer', 'parameters/momentum', 'metrics/test/MAE', 'metrics/test/MAE-Smooth',\n",
    "            'metrics/test/MSE', 'metrics/train/loss', 'parameters/n_epochs', 'parameters/batch_size',\n",
    "            'duration', 'sys/creation_time']\n",
    "\n",
    "runs_table_df = runs_table_df[colsKeep]\n",
    "ids = runs_table_df['sys/id'].values\n",
    "runs_table_df = runs_table_df.set_index('sys/id')"
   ]
  },
  {
   "cell_type": "code",
   "execution_count": 3,
   "id": "5668c01a",
   "metadata": {
    "hidden": true
   },
   "outputs": [],
   "source": [
    "runs_table_df = runs_table_df.rename(columns={'parameters/run_name': 'run_name',\n",
    "                                              'parameters/learning_rate':'LR',\n",
    "                                              'parameters/loss_function':'loss_function',\n",
    "                                              'parameters/optimizer':'optimizer',\n",
    "                                              'parameters/momentum': 'momentum',\n",
    "                                              'metrics/test/MAE': 'result_MAE',\n",
    "                                              'metrics/test/MAE-Smooth':'result_MAE-Smooth',\n",
    "                                              'metrics/test/MSE': 'result_MSE',\n",
    "                                              'metrics/train/loss':'train_loss',\n",
    "                                              'parameters/n_epochs':'n_epochs',\n",
    "                                              'parameters/batch_size':'batch',\n",
    "                                              'sys/creation_time':'creation_time'})\n",
    "\n",
    "runs_table_df = runs_table_df.replace({'loss_function': {0:'MAE', 1:'MAE-Smooth', 2:'MSE'}})\n",
    "runs_table_df = runs_table_df.replace({'optimizer': {0:'Adam', 1:'SGD'}})\n",
    "runs_table_df['model'] = list(runs_table_df.run_name.apply(lambda x:x[:6]))\n",
    "#runs_table_df['name_rum'] = list(runs_table_df.run_name.apply(lambda x:x[:6]))"
   ]
  },
  {
   "cell_type": "code",
   "execution_count": 4,
   "id": "a4887b74",
   "metadata": {
    "hidden": true
   },
   "outputs": [
    {
     "name": "stderr",
     "output_type": "stream",
     "text": [
      "/opt/homebrew/Caskroom/miniforge/base/envs/cv-nd/lib/python3.8/site-packages/pandas/core/generic.py:5494: SettingWithCopyWarning: \n",
      "A value is trying to be set on a copy of a slice from a DataFrame.\n",
      "Try using .loc[row_indexer,col_indexer] = value instead\n",
      "\n",
      "See the caveats in the documentation: https://pandas.pydata.org/pandas-docs/stable/user_guide/indexing.html#returning-a-view-versus-a-copy\n",
      "  self[name] = value\n"
     ]
    }
   ],
   "source": [
    "from sklearn.preprocessing import LabelEncoder\n",
    "le = LabelEncoder()\n",
    "#runs_table_df['name'] = le.fit_transform(list(runs_table_df.run_name.apply(lambda x:x[6:])))\n",
    "#runs_table_df['name'] = list(runs_table_df.run_name.apply(lambda x:x[6:]))\n",
    "runs_table_df['name'] = runs_table_df['run_name']\n",
    "\n",
    "runs_table_df = runs_table_df.sort_values('name')\n",
    "\n",
    "df_optm = [runs_table_df.loc[runs_table_df.optimizer == op] for op in runs_table_df.optimizer.unique()]\n",
    "df_loss = [runs_table_df.loc[runs_table_df.loss_function == lo] for lo in runs_table_df.loss_function.unique()]\n",
    "df_LR = [runs_table_df.loc[runs_table_df.LR == lr] for lr in runs_table_df.LR.unique()]\n",
    "df_model = [runs_table_df.loc[runs_table_df.model == m] for m in runs_table_df.model.unique()]\n",
    "\n",
    "dfs = [df_optm, df_loss, df_LR, df_model]\n",
    "metrics = ['MSE', 'MAE-Smooth', 'MAE']\n",
    "divisions = ['Optimizers', 'Loss-Functions', 'LearningRates', 'Model']\n",
    "name_processing = ['Opti', 'Loss', 'LR', 'v1.']\n",
    "name_division = [runs_table_df.optimizer.unique(),\n",
    "                 runs_table_df.loss_function.unique(),\n",
    "                 runs_table_df.LR.unique(),\n",
    "                 runs_table_df.model.unique()]\n",
    "\n",
    "for d, df in enumerate(dfs):\n",
    "    for f in range(len(df)):\n",
    "        pnames = df[f].name.apply(lambda x:\"-\".join([a for a in x.split('-') if (name_processing[d] not in a) and ('Mom' not in a)]))\n",
    "        #pnames = le.fit_transform(pnames)\n",
    "        df[f].name = pnames"
   ]
  },
  {
   "cell_type": "code",
   "execution_count": 5,
   "id": "94412173",
   "metadata": {
    "hidden": true
   },
   "outputs": [],
   "source": [
    "import pandas as pd\n",
    "dfSummaryMeans = pd.DataFrame(index=['MAE', 'MAE-Smooth', 'MSE'], columns=[i for c in name_division for i in c])\n",
    "dfSummaryMSE = pd.DataFrame(index=range(len(ids)))\n",
    "dfSummaryMAE_Smooth = pd.DataFrame(index=range(len(ids)))\n",
    "dfSummaryMAE = pd.DataFrame(index=range(len(ids)))\n",
    "\n",
    "for i, division in enumerate(divisions):\n",
    "    for d in range(len(dfs[i])):\n",
    "        metric = 'MSE'\n",
    "        df_n = pd.DataFrame(dfs[i][d][f'result_{metric}'].values , columns=[name_division[i][d]])\n",
    "        dfSummaryMSE=pd.merge(dfSummaryMSE, df_n, how='outer', left_index=True, right_index=True)\n",
    "\n",
    "        metric = 'MAE-Smooth'\n",
    "        df_n = pd.DataFrame(dfs[i][d][f'result_{metric}'].values , columns=[name_division[i][d]])\n",
    "        dfSummaryMAE_Smooth=pd.merge(dfSummaryMAE_Smooth, df_n, how='outer', left_index=True, right_index=True)\n",
    "\n",
    "        metric = 'MAE'\n",
    "        df_n = pd.DataFrame(dfs[i][d][f'result_{metric}'].values , columns=[name_division[i][d]])\n",
    "        dfSummaryMAE=pd.merge(dfSummaryMAE, df_n, how='outer', left_index=True, right_index=True)        \n",
    "        for m in range(len(metrics)): \n",
    "            v = round(np.mean(dfs[i][d][f'result_{metrics[m]}']), 5)\n",
    "            dfSummaryMeans.loc[metrics[m], name_division[i][d]] = v\n",
    "\n",
    "dfSummaryMSE = dfSummaryMSE.dropna(how=\"all\")\n",
    "dfSummaryMAE_Smooth = dfSummaryMAE_Smooth.dropna(how=\"all\")\n",
    "dfSummaryMAE = dfSummaryMAE.dropna(how=\"all\")"
   ]
  },
  {
   "cell_type": "markdown",
   "id": "86071b66",
   "metadata": {
    "heading_collapsed": true,
    "hidden": true
   },
   "source": [
    "## Get full training-loss"
   ]
  },
  {
   "cell_type": "code",
   "execution_count": null,
   "id": "d1875d29",
   "metadata": {
    "hidden": true
   },
   "outputs": [],
   "source": [
    "for i in ids[1:]:\n",
    "    run = neptune.init(project='joao.d.oliveira/Computer-Vision', run=i, mode=\"read-only\", api_token=API_TOKEN)\n",
    "    runs_table_df.loc[i, 'metrics/train/loss'] = \";\".join(map(str, list(run['metrics/train/loss'].fetch_values().value)))"
   ]
  },
  {
   "cell_type": "markdown",
   "id": "40359da1",
   "metadata": {},
   "source": [
    "# Analysis"
   ]
  },
  {
   "cell_type": "markdown",
   "id": "a9389a7c",
   "metadata": {},
   "source": [
    "## Plot Analysis"
   ]
  },
  {
   "cell_type": "markdown",
   "id": "0f093160",
   "metadata": {
    "heading_collapsed": true
   },
   "source": [
    "### All Combinations"
   ]
  },
  {
   "cell_type": "code",
   "execution_count": null,
   "id": "e9e5d4d5",
   "metadata": {
    "hidden": true,
    "scrolled": true
   },
   "outputs": [],
   "source": [
    "#%matplotlib notebook\n",
    "%matplotlib inline\n",
    "import seaborn as sns\n",
    "import matplotlib.pyplot as plt\n",
    "\n",
    "sns.set_theme(style=\"darkgrid\")\n",
    "\n",
    "sns.set(rc={\"figure.figsize\":(30, 20)})\n",
    "fig, sub = plt.subplots(4, 3)\n",
    "# Plot the responses for different events and regions\n",
    "for d, df in enumerate(dfs):\n",
    "    for i in range(len(metrics)):\n",
    "        for f in range(len(df)):\n",
    "            g = sns.lineplot(x=\"name\",\n",
    "                             y=df[f][f'result_{metrics[i]}'], data=df[f],\n",
    "                             ax=sub[d, i])\n",
    "            g.legend(labels=name_division[d])\n",
    "            g.set_xlabel(\"Runs\")\n",
    "            g.set_ylabel(f\"{metrics[i]} Results\")\n",
    "            g.set_title(f\"{divisions[d]}-{metrics[i]}\")\n",
    "plt.savefig('allcombinations.png', dpi=300)\n",
    "#plt.show(g)"
   ]
  },
  {
   "cell_type": "markdown",
   "id": "1e24f67f",
   "metadata": {
    "heading_collapsed": true
   },
   "source": [
    "### Plot only one Measure / Metric"
   ]
  },
  {
   "cell_type": "code",
   "execution_count": null,
   "id": "b787aaf4",
   "metadata": {
    "hidden": true
   },
   "outputs": [],
   "source": [
    "%matplotlib notebook\n",
    "import seaborn as sns\n",
    "\n",
    "measure, metric = 3, 0\n",
    "sns.set(rc={\"figure.figsize\":(10, 10)})\n",
    "\n",
    "# Plot the responses for different events and regions\n",
    "for f in range(len(dfs[measure])):\n",
    "    g = sns.lineplot(x=\"name\",\n",
    "                     y=dfs[measure][f][f'result_{metrics[metric]}'],\n",
    "                     data=dfs[measure][f])\n",
    "    g.legend(labels=name_division[measure])\n",
    "    g.set_xlabel(\"Runs\")\n",
    "    g.set_ylabel(f\"{metrics[metric]} Results\")\n",
    "    g.set_title(f\"{divisions[measure]}-{metrics[metric]}\")\n",
    "    \n",
    "fig = g.get_figure()\n"
   ]
  },
  {
   "cell_type": "markdown",
   "id": "1ec23a06",
   "metadata": {
    "heading_collapsed": true
   },
   "source": [
    "### Plot Summary"
   ]
  },
  {
   "cell_type": "code",
   "execution_count": null,
   "id": "3150807e",
   "metadata": {
    "hidden": true
   },
   "outputs": [],
   "source": [
    "%matplotlib inline\n",
    "\n",
    "fig = plt.figure(figsize=(10,5))\n",
    "for c in dfSummaryMeans.columns:\n",
    "    x, y = list(range(len(dfSummaryMeans.index))), dfSummaryMeans[c].values\n",
    "    plt.plot(x, y, label=c)\n",
    "\n",
    "plt.legend(loc='upper center')\n",
    "font_defined = {'family': 'serif', 'weight': 'normal', 'size': 16}\n",
    "plt.xlabel(\"Metrics\")\n",
    "plt.ylabel(\"Results\")\n",
    "plt.text(0.0, 0.3, \"MSE\", font=font_defined)\n",
    "plt.text(1, 0.10, 'MAE-Smooth', font=font_defined)\n",
    "plt.text(1.9, 0.2, 'MAE', font=font_defined)\n",
    "plt.tight_layout()\n",
    "plt.show();"
   ]
  },
  {
   "cell_type": "markdown",
   "id": "fa13c0be",
   "metadata": {
    "heading_collapsed": true
   },
   "source": [
    "### Plot OneMeasure-AllParameters"
   ]
  },
  {
   "cell_type": "code",
   "execution_count": null,
   "id": "e34a59f2",
   "metadata": {
    "hidden": true
   },
   "outputs": [],
   "source": [
    "%matplotlib inline\n",
    "\n",
    "fig = plt.figure(figsize=(15,20))\n",
    "ax = fig.add_subplot(3,1,1)\n",
    "m = 'MSE'\n",
    "for c in dfSummaryMSE.columns:\n",
    "    x, y = list(range(len(dfSummaryMSE.index))), dfSummaryMSE[c].values\n",
    "    plt.plot(x, y, label=c)\n",
    "\n",
    "plt.legend(loc='upper right')\n",
    "plt.tight_layout()\n",
    "plt.show();"
   ]
  },
  {
   "cell_type": "markdown",
   "id": "526b236d",
   "metadata": {},
   "source": [
    "## TextAnalysis"
   ]
  },
  {
   "cell_type": "code",
   "execution_count": 6,
   "id": "4886c028",
   "metadata": {},
   "outputs": [
    {
     "name": "stdout",
     "output_type": "stream",
     "text": [
      "Statistics from Optimizers    runs:\n",
      "\tAdam       -- MSE    : 0.05752 ; MAE-Smooth: 0.0287  ; MAE    : 0.16235 ; 414.43 seg\n",
      "\tSGD        -- MSE    : 0.17988 ; MAE-Smooth: 0.08809 ; MAE    : 0.30667 ; 345.57 seg\n",
      "Statistics from Loss-Functions runs:\n",
      "\tMAE        -- MSE    : 0.10835 ; MAE-Smooth: 0.05308 ; MAE    : 0.2163  ; 371.28 seg\n",
      "\tMAE-Smooth -- MSE    : 0.1096  ; MAE-Smooth: 0.05418 ; MAE    : 0.22799 ; 389.67 seg\n",
      "\tMSE        -- MSE    : 0.10955 ; MAE-Smooth: 0.05411 ; MAE    : 0.22678 ; 398.55 seg\n",
      "Statistics from LearningRates runs:\n",
      "\t0.0001     -- MSE    : 0.10838 ; MAE-Smooth: 0.05304 ; MAE    : 0.2095  ; 355.87 seg\n",
      "\t0.001      -- MSE    : 0.12604 ; MAE-Smooth: 0.06215 ; MAE    : 0.24705 ; 389.93 seg\n",
      "\t0.01       -- MSE    : 0.08679 ; MAE-Smooth: 0.04333 ; MAE    : 0.21709 ; 438.07 seg\n",
      "Statistics from Model         runs:\n",
      "\tv1.0.0     -- MSE    : 0.12476 ; MAE-Smooth: 0.06164 ; MAE    : 0.24453 ; 353.61 seg\n",
      "\tv1.1.0     -- MSE    : 0.1033  ; MAE-Smooth: 0.05123 ; MAE    : 0.22597 ; 517.18 seg\n",
      "\tv1.2.0     -- MSE    : 0.09301 ; MAE-Smooth: 0.04512 ; MAE    : 0.19192 ; 278.73 seg\n",
      "\tv1.3.0     -- MSE    : 0.10439 ; MAE-Smooth: 0.05094 ; MAE    : 0.2032  ; 278.52 seg\n"
     ]
    }
   ],
   "source": [
    "for i, division in enumerate(divisions):\n",
    "    print(f\"Statistics from {division:<13} runs:\")\n",
    "    for d in range(len(dfs[i])):\n",
    "        print(f\"\\t{name_division[i][d]:<10}\", end=' -- ')\n",
    "        for m in range(len(metrics)): \n",
    "            v = dfSummaryMeans.loc[metrics[m], name_division[i][d]]\n",
    "            print(f\"{metrics[m]:<7}: {v:<8}\", end='; ')\n",
    "\n",
    "        print(f\"{round(np.mean(dfs[i][d]['duration']), 2)} seg\")"
   ]
  },
  {
   "cell_type": "code",
   "execution_count": 24,
   "id": "b9825b6a",
   "metadata": {},
   "outputs": [
    {
     "name": "stdout",
     "output_type": "stream",
     "text": [
      "Adam      \n",
      "(0.8, 0.9)      - MSE    : 0.0562  ; MAE-Smooth: 0.02809 ; MAE    : 0.16189 ; \n",
      "(0.85, 0.95)    - MSE    : 0.05314 ; MAE-Smooth: 0.02655 ; MAE    : 0.15707 ; \n",
      "(0.85, 0.999)   - MSE    : 0.05323 ; MAE-Smooth: 0.02656 ; MAE    : 0.15731 ; \n",
      "(0.9, 0.999)    - MSE    : 0.06695 ; MAE-Smooth: 0.03334 ; MAE    : 0.17255 ; \n",
      "SGD       \n",
      "0.85            - MSE    : 0.17424 ; MAE-Smooth: 0.086   ; MAE    : 0.3059  ; \n",
      "0.8             - MSE    : 0.18057 ; MAE-Smooth: 0.08843 ; MAE    : 0.30685 ; \n",
      "0.9             - MSE    : 0.18483 ; MAE-Smooth: 0.08984 ; MAE    : 0.30726 ; \n"
     ]
    }
   ],
   "source": [
    "i = 0\n",
    "for d in range(len(dfs[i])):\n",
    "    print(f\"{name_division[i][d]:<10}\")\n",
    "    for m in dfs[i][d].momentum.unique():\n",
    "        print(f'{m:<15} - ', end='')\n",
    "        for metric in metrics:\n",
    "            v = round(np.mean(dfs[i][d].loc[dfs[i][d].momentum == m, f'result_{metric}']), 5)\n",
    "            print(f\"{metric:<7}: {v:<8}\", end='; ')\n",
    "        print()"
   ]
  }
 ],
 "metadata": {
  "kernelspec": {
   "display_name": "Python 3",
   "language": "python",
   "name": "python3"
  },
  "language_info": {
   "codemirror_mode": {
    "name": "ipython",
    "version": 3
   },
   "file_extension": ".py",
   "mimetype": "text/x-python",
   "name": "python",
   "nbconvert_exporter": "python",
   "pygments_lexer": "ipython3",
   "version": "3.8.10"
  },
  "toc": {
   "base_numbering": 1,
   "nav_menu": {},
   "number_sections": true,
   "sideBar": true,
   "skip_h1_title": false,
   "title_cell": "Table of Contents",
   "title_sidebar": "Contents",
   "toc_cell": false,
   "toc_position": {},
   "toc_section_display": true,
   "toc_window_display": false
  }
 },
 "nbformat": 4,
 "nbformat_minor": 5
}
