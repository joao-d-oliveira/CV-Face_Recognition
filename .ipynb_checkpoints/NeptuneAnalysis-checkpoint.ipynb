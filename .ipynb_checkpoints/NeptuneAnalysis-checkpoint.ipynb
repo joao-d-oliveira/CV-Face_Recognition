{
 "cells": [
  {
   "cell_type": "code",
   "execution_count": null,
   "id": "a5433142",
   "metadata": {},
   "outputs": [],
   "source": [
    "import neptune.new as neptune\n",
    "API_TOKEN = 'eyJhcGlfYWRkcmVzcyI6Imh0dHBzOi8vYXBwLm5lcHR1bmUuYWkiLCJhcGlfdXJsIjoiaHR0cHM6Ly9hcHAubmVwdHVuZS5haSIsImFwaV9rZXkiOiI4Njg5NjEzOC1mYWVjLTQ4NGUtOWY0NS1kZDIwM2M3NjVhN2IifQ=='"
   ]
  },
  {
   "cell_type": "code",
   "execution_count": null,
   "id": "2d5ce1eb",
   "metadata": {},
   "outputs": [],
   "source": [
    "project = neptune.get_project(name='joao.d.oliveira/Computer-Vision', api_token=API_TOKEN)\n",
    "runs_table_df = project.fetch_runs_table().to_pandas()"
   ]
  },
  {
   "cell_type": "code",
   "execution_count": null,
   "id": "9c9c3e4e",
   "metadata": {},
   "outputs": [],
   "source": [
    "colsKeep = ['sys/id', 'parameters/run_name', 'parameters/learning_rate', 'parameters/loss_function', \n",
    "            'parameters/optimizer', 'parameters/momentum', 'metrics/test/MAE', 'metrics/test/MAE-Smooth',\n",
    "            'metrics/test/MSE', 'metrics/train/loss', 'parameters/n_epochs', 'parameters/batch_size',\n",
    "            'duration', 'sys/creation_time']\n",
    "\n",
    "runs_table_df = runs_table_df[colsKeep]\n",
    "ids = runs_table_df['sys/id'].values\n",
    "runs_table_df = runs_table_df.set_index('sys/id')"
   ]
  },
  {
   "cell_type": "code",
   "execution_count": null,
   "id": "caffc620",
   "metadata": {},
   "outputs": [],
   "source": [
    "for i in ids[1:]:\n",
    "    run = neptune.init(project='joao.d.oliveira/Computer-Vision', run=i, mode=\"read-only\", api_token=API_TOKEN)\n",
    "    runs_table_df.loc[i, 'metrics/train/loss'] = \";\".join(map(str, list(run['metrics/train/loss'].fetch_values().value)))"
   ]
  },
  {
   "cell_type": "code",
   "execution_count": null,
   "id": "c496836d",
   "metadata": {},
   "outputs": [],
   "source": [
    "runs_table_df = runs_table_df.rename(columns={'parameters/run_name': 'run_name',\n",
    "                                              'parameters/learning_rate':'LR',\n",
    "                                              'parameters/loss_function':'loss_function',\n",
    "                                              'parameters/optimizer':'optimizer',\n",
    "                                              'parameters/momentum': 'momentum',\n",
    "                                              'metrics/test/MAE': 'result_MAE',\n",
    "                                              'metrics/test/MAE-Smooth':'result_MAE-Smooth',\n",
    "                                              'metrics/test/MSE': 'result_MSE',\n",
    "                                              'metrics/train/loss':'train_loss',\n",
    "                                              'parameters/n_epochs':'n_epochs',\n",
    "                                              'parameters/batch_size':'batch',\n",
    "                                              'sys/creation_time':'creation_time'})\n",
    "\n",
    "runs_table_df = runs_table_df.replace({'loss_function': {0:'MAE', 1:'MAE-Smooth', 2:'MSE'}})\n",
    "runs_table_df = runs_table_df.replace({'optimizer': {0:'Adam', 1:'SGD'}})\n",
    "runs_table_df['model'] = list(runs_table_df.run_name.apply(lambda x:x[:6]))"
   ]
  },
  {
   "cell_type": "code",
   "execution_count": null,
   "id": "1befc05a",
   "metadata": {},
   "outputs": [],
   "source": [
    "df_optm = [runs_table_df.loc[runs_table_df.optimizer == op] for op in runs_table_df.optimizer.unique()]\n",
    "df_loss = [runs_table_df.loc[runs_table_df.loss_function == lo] for lo in runs_table_df.loss_function.unique()]\n",
    "df_LR = [runs_table_df.loc[runs_table_df.LR == lr] for lr in runs_table_df.LR.unique()]\n",
    "df_model = [runs_table_df.loc[runs_table_df.model == m] for m in runs_table_df.model.unique()]\n",
    "len(df_optm), len(df_loss), len(df_LR), len(df_model)"
   ]
  },
  {
   "cell_type": "code",
   "execution_count": null,
   "id": "a9eb5a2c",
   "metadata": {},
   "outputs": [],
   "source": [
    "name_division = [runs_table_df.optimizer.unique(),\n",
    "                 runs_table_df.loss_function.unique(),\n",
    "                 runs_table_df.LR.unique(),\n",
    "                 runs_table_df.model.unique()]\n",
    "name_division[0][0]"
   ]
  },
  {
   "cell_type": "code",
   "execution_count": null,
   "id": "3018e485",
   "metadata": {},
   "outputs": [],
   "source": [
    "import seaborn as sns\n",
    "import matplotlib.pyplot as plt\n",
    "\n",
    "sns.set_theme(style=\"darkgrid\")\n",
    "\n",
    "metric = ['MSE', 'MAE-Smooth', 'MAE']\n",
    "division = ['Optimizers', 'Loss-Functions', 'LearningRates', 'Model']\n",
    "name_division = [runs_table_df.optimizer.unique(),\n",
    "                 runs_table_df.loss_function.unique(),\n",
    "                 runs_table_df.LR.unique(),\n",
    "                 runs_table_df.model.unique()]\n",
    "\n",
    "\n",
    "sns.set(rc={\"figure.figsize\":(40, 40)})\n",
    "fig, sub = plt.subplots(4, 3)\n",
    "# Plot the responses for different events and regions\n",
    "for d, df in enumerate([df_optm, df_loss, df_LR, df_model]):\n",
    "    for i in range(len(metric)):\n",
    "        for f in range(len(df)):\n",
    "            g = sns.lineplot(x=range(len(df[f])),\n",
    "                             y=df[f][f'result_{metric[i]}'], data=df[f],\n",
    "                             ax=sub[d, i])\n",
    "            g.legend(labels=name_division[d])\n",
    "            g.set_xlabel(\"Runs\")\n",
    "            g.set_ylabel(f\"{metric[i]} Results\")\n",
    "            g.set_title(f\"{division[d]}-{metric[i]}\")\n",
    "        \n",
    "plt.show(g)"
   ]
  },
  {
   "cell_type": "code",
   "execution_count": null,
   "id": "f1e9ac7b",
   "metadata": {},
   "outputs": [],
   "source": []
  },
  {
   "cell_type": "code",
   "execution_count": null,
   "id": "f27ed031",
   "metadata": {},
   "outputs": [],
   "source": []
  },
  {
   "cell_type": "code",
   "execution_count": null,
   "id": "6de37ae0",
   "metadata": {},
   "outputs": [],
   "source": []
  }
 ],
 "metadata": {
  "kernelspec": {
   "display_name": "Python 3",
   "language": "python",
   "name": "python3"
  },
  "language_info": {
   "codemirror_mode": {
    "name": "ipython",
    "version": 3
   },
   "file_extension": ".py",
   "mimetype": "text/x-python",
   "name": "python",
   "nbconvert_exporter": "python",
   "pygments_lexer": "ipython3",
   "version": "3.8.10"
  },
  "toc": {
   "base_numbering": 1,
   "nav_menu": {},
   "number_sections": true,
   "sideBar": true,
   "skip_h1_title": false,
   "title_cell": "Table of Contents",
   "title_sidebar": "Contents",
   "toc_cell": false,
   "toc_position": {},
   "toc_section_display": true,
   "toc_window_display": false
  }
 },
 "nbformat": 4,
 "nbformat_minor": 5
}
