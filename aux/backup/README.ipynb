{
 "cells": [
  {
   "cell_type": "markdown",
   "id": "1713aeee",
   "metadata": {},
   "source": [
    "# About\n",
    "Project from Udacity.\n",
    "Final project from 1st Section\n"
   ]
  },
  {
   "cell_type": "markdown",
   "id": "bae73fac",
   "metadata": {},
   "source": [
    "# Instructions"
   ]
  },
  {
   "cell_type": "markdown",
   "id": "cf1f1241",
   "metadata": {},
   "source": [
    "## Submission Files\n",
    "* models.py: \n",
    "* Notebooks 2: Defining and Training a Convolutional Neural Network (CNN) to Predict Facial Keypoints \n",
    "* Notebooks 3: Facial Keypoint Detection Using Haar Cascades and your Trained CNN\n",
    "\n"
   ]
  },
  {
   "cell_type": "markdown",
   "id": "350ac876",
   "metadata": {},
   "source": [
    "### models.py\n",
    "\n",
    "**Criteria:**\n",
    "\n",
    "**Define a CNN in models.py**:\n",
    "* Define a convolutional neural network with at least one convolutional layer, i.e. `self.conv1 = nn.Conv2d(1, 32, 5)`. The network should take in a grayscale, square image."
   ]
  },
  {
   "cell_type": "markdown",
   "id": "999ea118",
   "metadata": {},
   "source": [
    "### Notebook 2: Define the Network Architecture\n",
    "\n",
    "**Criteria:**\n",
    "\n",
    "**Define the `data_transform` for training and test data**\n",
    "* Define a data_transform and apply it whenever you instantiate a DataLoader. The composed transform should include: rescaling/cropping, normalization, and turning input images into torch Tensors. The transform should turn any input image into a normalized, square, grayscale image and then a Tensor for your model to take it as input.\n",
    "\n",
    "* Depending on the complexity of the network you define, and other hyperparameters the model can take some time to train. We encourage you to start with a simple network with only 2 layers. You'll be graded based on the implementation of your models rather than accuracy.\n",
    "\n",
    "**Define the loss and optimization functions**\n",
    "* Select a loss function and optimizer for training the model. The loss and optimization functions should be appropriate for keypoint detection, which is a regression problem.\n",
    "\n",
    "**Train the CNN**\n",
    "* Train your CNN after defining its loss and optimization functions. You are encouraged, but not required, to visualize the loss over time/epochs by printing it out occasionally and/or plotting the loss over time. Save your best trained model.\n",
    "\n",
    "**Answer questions about model architecture**\n",
    "* After training, all 3 questions about model architecture, choice of loss function, and choice of batch_size and epoch parameters are answered.\n",
    "\n",
    "**Visualize one or more learned feature maps**\n",
    "* Your CNN \"learns\" (updates the weights in its convolutional layers) to recognize features and this criteria requires that you extract at least one convolutional filter from your trained model, apply it to an image, and see what effect this filter has on an image.\n",
    "\n",
    "**Answer question about feature visualization**\n",
    "* After visualizing a feature map, answer: what do you think it detects? This answer should be informed by how a filtered image (from the criteria above) looks.\n"
   ]
  },
  {
   "cell_type": "markdown",
   "id": "ba83b498",
   "metadata": {},
   "source": [
    "### Notebook 3: Facial Keypoint Detection\n",
    "**Criteria:**\n",
    "\n",
    "**Detect faces in a given image**\n",
    "* Use a Haar cascade face detector to detect faces in a given image.\n",
    "\n",
    "**Transform each detected face into an input Tensor**\n",
    "* You should transform any face into a normalized, square, grayscale image and then a Tensor for your model to take in as input (similar to what the `data_transform` did in Notebook 2).\n",
    "\n",
    "**Predict and display the keypoints on each face**\n",
    "* After face detection with a Haar cascade and face pre-processing, apply your trained model to each detected face, and display the predicted keypoints for each face in the image.\n",
    "\n",
    "\n",
    "\n",
    "\n",
    "\n",
    "\n"
   ]
  },
  {
   "cell_type": "markdown",
   "id": "f2b990d8",
   "metadata": {},
   "source": [
    "## Recommendations\n",
    "* Your home folder (including subfolders) must be less than 2GB (/home/workspace)\n",
    "* Your home folder (including subfolders) must be less than 25 megabytes to submit as a project."
   ]
  },
  {
   "cell_type": "markdown",
   "id": "2abf1004",
   "metadata": {},
   "source": [
    "## Bonus\n",
    "* Initialize the weights of your CNN by sampling a normal distribution or by performing Xavier initialization so that a particular input signal does not get too big or too small as the network trains.\n",
    "* In Notebook 4, create face filters that add sunglasses, mustaches, or any .png of your choice to a given face in the correct location.\n",
    "* Use the keypoints around a person's mouth to estimate the curvature of their mouth and create a smile recognition algorithm .\n",
    "* Use OpenCV's k-means clustering algorithm to extract the most common facial poses (left, middle, or right-facing, etc.).\n",
    "* Use the locations of keypoints on two faces to swap those faces.\n",
    "* Add a rotation transform to our list of transformations and use it to do data augmentation."
   ]
  },
  {
   "cell_type": "markdown",
   "id": "eee881be",
   "metadata": {},
   "source": [
    "# Todo\n",
    "* Evaluate the advantage of substituting the old haar files from original [git](https://github.com/opencv/opencv/tree/master/data/haarcascades)\n"
   ]
  },
  {
   "cell_type": "code",
   "execution_count": null,
   "id": "cb7977c9",
   "metadata": {},
   "outputs": [],
   "source": []
  }
 ],
 "metadata": {
  "kernelspec": {
   "display_name": "Python 3",
   "language": "python",
   "name": "python3"
  },
  "language_info": {
   "codemirror_mode": {
    "name": "ipython",
    "version": 3
   },
   "file_extension": ".py",
   "mimetype": "text/x-python",
   "name": "python",
   "nbconvert_exporter": "python",
   "pygments_lexer": "ipython3",
   "version": "3.8.10"
  },
  "toc": {
   "base_numbering": 1,
   "nav_menu": {},
   "number_sections": true,
   "sideBar": true,
   "skip_h1_title": false,
   "title_cell": "Table of Contents",
   "title_sidebar": "Contents",
   "toc_cell": false,
   "toc_position": {},
   "toc_section_display": true,
   "toc_window_display": false
  }
 },
 "nbformat": 4,
 "nbformat_minor": 5
}
